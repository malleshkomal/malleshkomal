{
 "cells": [
  {
   "cell_type": "code",
   "execution_count": 3,
   "id": "2f33d51a",
   "metadata": {},
   "outputs": [
    {
     "name": "stdout",
     "output_type": "stream",
     "text": [
      "Rockstar\n"
     ]
    }
   ],
   "source": [
    "print(\"Rockstar\") #string"
   ]
  },
  {
   "cell_type": "code",
   "execution_count": 2,
   "id": "145ba674",
   "metadata": {},
   "outputs": [
    {
     "name": "stdout",
     "output_type": "stream",
     "text": [
      "is beautiful\n"
     ]
    }
   ],
   "source": [
    "print('is beautiful')"
   ]
  },
  {
   "cell_type": "code",
   "execution_count": 8,
   "id": "41165986",
   "metadata": {},
   "outputs": [
    {
     "name": "stdout",
     "output_type": "stream",
     "text": [
      "school std\n"
     ]
    }
   ],
   "source": [
    "a='school'#assigning string to variable\n",
    "b='std'\n",
    "print(a,b)"
   ]
  },
  {
   "cell_type": "code",
   "execution_count": 12,
   "id": "2a90cddc",
   "metadata": {},
   "outputs": [
    {
     "name": "stdout",
     "output_type": "stream",
     "text": [
      "p\n"
     ]
    }
   ],
   "source": [
    "#string are array\n",
    "a=\"superstar is the hrithik roshan\"\n",
    "\n",
    "print(a[2])\n"
   ]
  },
  {
   "cell_type": "code",
   "execution_count": 15,
   "id": "c11f06b6",
   "metadata": {},
   "outputs": [
    {
     "name": "stdout",
     "output_type": "stream",
     "text": [
      "k\n",
      "o\n",
      "m\n",
      "a\n",
      "l\n"
     ]
    }
   ],
   "source": [
    "#looping through string\n",
    "for a in \"komal\":\n",
    "    print(a)"
   ]
  },
  {
   "cell_type": "code",
   "execution_count": 21,
   "id": "61e2e81a",
   "metadata": {},
   "outputs": [
    {
     "name": "stdout",
     "output_type": "stream",
     "text": [
      "komal\n",
      "somesh\n",
      "aishwarya\n",
      "prem\n",
      "komal\n",
      "komal\n",
      "aishwarya\n",
      "prem\n",
      "komal\n",
      "somesh\n",
      "aishwarya\n",
      "prem\n",
      "komal\n",
      "aishwarya\n",
      "aishwarya\n",
      "prem\n",
      "komal\n",
      "prem\n",
      "aishwarya\n",
      "prem\n"
     ]
    }
   ],
   "source": [
    "a= \"komal\"\n",
    "b=\"somesh\"\n",
    "c=\"aishwarya\"\n",
    "d=\"prem\"\n",
    "\n",
    "print(a)\n",
    "print(b)\n",
    "print(c)\n",
    "print(d)\n",
    "\n",
    "for b in \"komal\",\"somesh\",\"aishwarya\",\"prem\":\n",
    "    print(a)\n",
    "    print(b)\n",
    "    print(c)\n",
    "    print(d)"
   ]
  },
  {
   "cell_type": "code",
   "execution_count": 22,
   "id": "505383c4",
   "metadata": {},
   "outputs": [
    {
     "name": "stdout",
     "output_type": "stream",
     "text": [
      "5\n"
     ]
    }
   ],
   "source": [
    "a= \"komal\" # length of string\n",
    "b=\"somesh\"\n",
    "c=\"aishwarya\"\n",
    "d=\"prem\"\n",
    "\n",
    "print(len(a))"
   ]
  },
  {
   "cell_type": "code",
   "execution_count": 24,
   "id": "2434f07b",
   "metadata": {},
   "outputs": [
    {
     "name": "stdout",
     "output_type": "stream",
     "text": [
      "False\n"
     ]
    }
   ],
   "source": [
    "txt=\"Brightway is an open-source software package for life cycle assessment (LCA) and environmental impact assessment written in the Python programming language\"\n",
    "print(\"komal\" in txt)"
   ]
  },
  {
   "cell_type": "code",
   "execution_count": 31,
   "id": "699dded1",
   "metadata": {},
   "outputs": [],
   "source": [
    "txt= \"The best things in life are free\"\n",
    "if (\"Komal\" in txt):\n",
    "    print(\"yes,'komal'is present.\")"
   ]
  },
  {
   "cell_type": "code",
   "execution_count": null,
   "id": "b4d388f6",
   "metadata": {},
   "outputs": [],
   "source": []
  },
  {
   "cell_type": "code",
   "execution_count": null,
   "id": "d14887aa",
   "metadata": {},
   "outputs": [],
   "source": []
  }
 ],
 "metadata": {
  "kernelspec": {
   "display_name": "Python 3 (ipykernel)",
   "language": "python",
   "name": "python3"
  },
  "language_info": {
   "codemirror_mode": {
    "name": "ipython",
    "version": 3
   },
   "file_extension": ".py",
   "mimetype": "text/x-python",
   "name": "python",
   "nbconvert_exporter": "python",
   "pygments_lexer": "ipython3",
   "version": "3.9.16"
  }
 },
 "nbformat": 4,
 "nbformat_minor": 5
}
