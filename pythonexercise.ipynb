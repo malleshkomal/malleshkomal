{
 "cells": [
  {
   "cell_type": "code",
   "execution_count": 1,
   "id": "0f72c9e2",
   "metadata": {},
   "outputs": [
    {
     "name": "stdout",
     "output_type": "stream",
     "text": [
      "hello world\n"
     ]
    }
   ],
   "source": [
    "print(\"hello world\")"
   ]
  },
  {
   "cell_type": "code",
   "execution_count": 2,
   "id": "01b00a37",
   "metadata": {},
   "outputs": [
    {
     "name": "stdout",
     "output_type": "stream",
     "text": [
      "<class 'int'>\n",
      "<class 'float'>\n"
     ]
    }
   ],
   "source": [
    "x = 1\n",
    "y= 1.5\n",
    "print(type(x))\n",
    "print(type(y))"
   ]
  },
  {
   "cell_type": "code",
   "execution_count": 9,
   "id": "e6600ea3",
   "metadata": {},
   "outputs": [
    {
     "name": "stdout",
     "output_type": "stream",
     "text": [
      "1234 komal chougule\n"
     ]
    }
   ],
   "source": [
    "x = \"1234\"\n",
    "z = \"komal chougule\"\n",
    "print(x,z)"
   ]
  },
  {
   "cell_type": "code",
   "execution_count": 15,
   "id": "bd27dd16",
   "metadata": {},
   "outputs": [
    {
     "name": "stdout",
     "output_type": "stream",
     "text": [
      "2 1\n"
     ]
    }
   ],
   "source": [
    "a = str(2)\n",
    "e = int(1)\n",
    "print(a,e)"
   ]
  },
  {
   "cell_type": "code",
   "execution_count": 16,
   "id": "1139fd51",
   "metadata": {},
   "outputs": [
    {
     "name": "stdout",
     "output_type": "stream",
     "text": [
      "komal\n",
      "mallesh\n"
     ]
    }
   ],
   "source": [
    "a,b,c =\"komal\",\"mallesh\",\"chougule\"\n",
    "print(a)\n",
    "print(b)"
   ]
  },
  {
   "cell_type": "code",
   "execution_count": 20,
   "id": "ccc449d7",
   "metadata": {},
   "outputs": [
    {
     "name": "stdout",
     "output_type": "stream",
     "text": [
      "komal,mallesh,chougule\n",
      "komal,mallesh,chougule\n",
      "komal,mallesh,chougule\n"
     ]
    }
   ],
   "source": [
    "a=b=c=\"komal,mallesh,chougule\"\n",
    "print(a)\n",
    "print(b)\n",
    "print(c)\n"
   ]
  },
  {
   "cell_type": "code",
   "execution_count": 22,
   "id": "d2d969b7",
   "metadata": {},
   "outputs": [
    {
     "name": "stdout",
     "output_type": "stream",
     "text": [
      "25\n"
     ]
    }
   ],
   "source": [
    "#addition of 2 numbers\n",
    "a = 20\n",
    "b = 5\n",
    "print(a+b)"
   ]
  },
  {
   "cell_type": "code",
   "execution_count": 23,
   "id": "69f85a6f",
   "metadata": {},
   "outputs": [
    {
     "name": "stdout",
     "output_type": "stream",
     "text": [
      "15\n"
     ]
    }
   ],
   "source": [
    "#subtraction of 2 numbers\n",
    "a = 20\n",
    "b = 5\n",
    "print(a-b)"
   ]
  },
  {
   "cell_type": "code",
   "execution_count": 28,
   "id": "ea188b4d",
   "metadata": {},
   "outputs": [
    {
     "name": "stdout",
     "output_type": "stream",
     "text": [
      "AGE OF\n"
     ]
    }
   ],
   "source": [
    "#uppercase\n",
    "txt = 'age of'\n",
    "x = txt.upper()\n",
    "print(x)\n"
   ]
  },
  {
   "cell_type": "code",
   "execution_count": 29,
   "id": "214da72d",
   "metadata": {},
   "outputs": [
    {
     "name": "stdout",
     "output_type": "stream",
     "text": [
      "komal chougule\n"
     ]
    }
   ],
   "source": [
    "#lowercase\n",
    "a = 'KOMAL CHOUGULE'\n",
    "x = a.lower()\n",
    "print(x)"
   ]
  },
  {
   "cell_type": "code",
   "execution_count": 30,
   "id": "52249390",
   "metadata": {},
   "outputs": [
    {
     "name": "stdout",
     "output_type": "stream",
     "text": [
      "name of the student\n",
      " AGE OF STUDENT\n"
     ]
    }
   ],
   "source": [
    "x = \"NAME OF THE STUDENT\"\n",
    "y = \" age of student\"\n",
    "\n",
    "a = x.lower()\n",
    "b = y.upper()\n",
    "\n",
    "print(a)\n",
    "print(b)\n"
   ]
  },
  {
   "cell_type": "code",
   "execution_count": 73,
   "id": "80777499",
   "metadata": {},
   "outputs": [
    {
     "data": {
      "text/plain": [
       "'Introduction of komal chougule'"
      ]
     },
     "execution_count": 73,
     "metadata": {},
     "output_type": "execute_result"
    }
   ],
   "source": [
    "#global variables\n",
    "a = \"komal chougule\"\n",
    "\n",
    "def myfunc(a):\n",
    "    return (\"Introduction of \" +  a)\n",
    "        \n",
    "myfunc(a)       "
   ]
  },
  {
   "cell_type": "code",
   "execution_count": 74,
   "id": "caf07b91",
   "metadata": {},
   "outputs": [
    {
     "name": "stdout",
     "output_type": "stream",
     "text": [
      "x can be used a global komal chougule\n"
     ]
    }
   ],
   "source": [
    "def myfunc():\n",
    "    global x\n",
    "    a = 123\n",
    "myfunc()\n",
    "print(\"x can be used a global\", a)"
   ]
  },
  {
   "cell_type": "code",
   "execution_count": 44,
   "id": "0e9e041f",
   "metadata": {},
   "outputs": [
    {
     "name": "stdout",
     "output_type": "stream",
     "text": [
      "<class 'int'>\n",
      "<class 'complex'>\n",
      "<class 'float'>\n"
     ]
    }
   ],
   "source": [
    "# data types numbers\n",
    "a = 1234\n",
    "b = 2+1j\n",
    "c = 2.90\n",
    "\n",
    "print(type(a))\n",
    "print(type(b))\n",
    "print(type(c))"
   ]
  },
  {
   "cell_type": "code",
   "execution_count": 49,
   "id": "d595626a",
   "metadata": {},
   "outputs": [
    {
     "name": "stdout",
     "output_type": "stream",
     "text": [
      "1234.0\n",
      "2\n",
      "(2-1j)\n",
      "<class 'int'>\n",
      "<class 'complex'>\n",
      "<class 'float'>\n"
     ]
    }
   ],
   "source": [
    "# data types numbers\n",
    "a = 1234\n",
    "b = 2-1j\n",
    "c = 2.90\n",
    "\n",
    "#convert int to float\n",
    "x = float(a)\n",
    "\n",
    "#convert float to int\n",
    "y = int(c)\n",
    "\n",
    "#convert int to complex\n",
    "z = complex(b)\n",
    "\n",
    "print(x)\n",
    "print(y)\n",
    "print(z)\n",
    "\n",
    "print(type(a))\n",
    "print(type(b))\n",
    "print(type(c))"
   ]
  },
  {
   "cell_type": "code",
   "execution_count": 58,
   "id": "ef0d6353",
   "metadata": {},
   "outputs": [
    {
     "name": "stdout",
     "output_type": "stream",
     "text": [
      "972\n"
     ]
    }
   ],
   "source": [
    "#random numbers\n",
    "import random\n",
    "\n",
    "print(random.randrange(1,1000))"
   ]
  },
  {
   "cell_type": "code",
   "execution_count": 52,
   "id": "e0b29e3b",
   "metadata": {},
   "outputs": [
    {
     "name": "stdout",
     "output_type": "stream",
     "text": [
      "NAME OF SCHOOL\n",
      "<class 'str'>\n"
     ]
    }
   ],
   "source": [
    "#data types= strings\n",
    "x = \"NAME OF SCHOOL\"\n",
    "\n",
    "a = x.upper()\n",
    "print(a)\n",
    "print(type(a))\n"
   ]
  },
  {
   "cell_type": "code",
   "execution_count": 54,
   "id": "3f3b44e1",
   "metadata": {},
   "outputs": [
    {
     "name": "stdout",
     "output_type": "stream",
     "text": [
      "<class 'int'>\n",
      "<class 'float'>\n",
      "<class 'complex'>\n",
      "89\n"
     ]
    }
   ],
   "source": [
    "#data types numbers\n",
    "x = 20\n",
    "y = 30.0\n",
    "z = 25-1j\n",
    "\n",
    "print(type(x))\n",
    "print(type(y))\n",
    "print(type(z))\n",
    "\n",
    "import random\n",
    "\n",
    "print(random.randrange(1,100))\n",
    "\n"
   ]
  },
  {
   "cell_type": "code",
   "execution_count": 56,
   "id": "366deda3",
   "metadata": {},
   "outputs": [
    {
     "name": "stdout",
     "output_type": "stream",
     "text": [
      "2\n",
      "1\n"
     ]
    }
   ],
   "source": [
    "a = int(2.9)\n",
    "b = int(1.34)\n",
    "\n",
    "print(a)\n",
    "print(b)"
   ]
  },
  {
   "cell_type": "code",
   "execution_count": 57,
   "id": "7de335f2",
   "metadata": {},
   "outputs": [
    {
     "name": "stdout",
     "output_type": "stream",
     "text": [
      "komal chougule\n",
      "1.23\n"
     ]
    }
   ],
   "source": [
    "a = str(\"komal chougule\")\n",
    "b = str (1.23)\n",
    "\n",
    "print(a)\n",
    "print(b)"
   ]
  },
  {
   "cell_type": "code",
   "execution_count": 63,
   "id": "d6858377",
   "metadata": {},
   "outputs": [
    {
     "name": "stdout",
     "output_type": "stream",
     "text": [
      "a\n"
     ]
    }
   ],
   "source": [
    "#strings are arrays\n",
    "a =\"komal mallesh chougule\"\n",
    "print(a[7])"
   ]
  },
  {
   "cell_type": "code",
   "execution_count": 105,
   "id": "8d363039",
   "metadata": {},
   "outputs": [
    {
     "name": "stdout",
     "output_type": "stream",
     "text": [
      "Python is 2\n",
      "Python is 1\n"
     ]
    }
   ],
   "source": [
    "x = \"1\"\n",
    "\n",
    "def myfunc():\n",
    "  x = \"2\"\n",
    "  print(\"Python is \" + x)\n",
    "\n",
    "myfunc()\n",
    "\n",
    "print(\"Python is \" + x)"
   ]
  },
  {
   "cell_type": "code",
   "execution_count": 101,
   "id": "0ac0f20b",
   "metadata": {},
   "outputs": [
    {
     "name": "stdout",
     "output_type": "stream",
     "text": [
      "5\n"
     ]
    }
   ],
   "source": [
    "x = 2\n",
    "y = 3\n",
    "print(x+y)"
   ]
  },
  {
   "cell_type": "code",
   "execution_count": 118,
   "id": "83e20658",
   "metadata": {},
   "outputs": [
    {
     "name": "stdout",
     "output_type": "stream",
     "text": [
      "sub 1\n"
     ]
    }
   ],
   "source": [
    "def sub(x):\n",
    "    x=1\n",
    "  \n",
    "sub(x)\n",
    "\n",
    "print(\"sub\",x)"
   ]
  },
  {
   "cell_type": "code",
   "execution_count": 133,
   "id": "53d89fa7",
   "metadata": {},
   "outputs": [
    {
     "name": "stdout",
     "output_type": "stream",
     "text": [
      "(4, 0, 4, 1.0)\n"
     ]
    }
   ],
   "source": [
    "def numbers(a,b):\n",
    "    return (a*b, a-b, a*b, a/b)\n",
    "a = 2\n",
    "b= 2\n",
    "print(numbers(a,b))\n",
    "\n",
    "\n"
   ]
  },
  {
   "cell_type": "code",
   "execution_count": 146,
   "id": "a00e0376",
   "metadata": {},
   "outputs": [
    {
     "name": "stdout",
     "output_type": "stream",
     "text": [
      "g\n"
     ]
    }
   ],
   "source": [
    "def name(x):\n",
    "    return(x[10])\n",
    "x =\"komal chougule\"\n",
    "print(name(x))"
   ]
  },
  {
   "cell_type": "code",
   "execution_count": 157,
   "id": "140e4c13",
   "metadata": {},
   "outputs": [
    {
     "data": {
      "text/plain": [
       "'orange'"
      ]
     },
     "execution_count": 157,
     "metadata": {},
     "output_type": "execute_result"
    }
   ],
   "source": [
    "a =\"mallesh\"\n",
    "def name(a):\n",
    "    b=\"orange\"\n",
    "    return(b)\n",
    "  \n",
    "(name(a))"
   ]
  },
  {
   "cell_type": "code",
   "execution_count": 172,
   "id": "446ed657",
   "metadata": {},
   "outputs": [
    {
     "data": {
      "text/plain": [
       "4"
      ]
     },
     "execution_count": 172,
     "metadata": {},
     "output_type": "execute_result"
    }
   ],
   "source": [
    "a = 4\n",
    "b = 3\n",
    "def komal(a,b):\n",
    "    add = a+b\n",
    "    sub = add - b\n",
    "    return(sub)\n",
    "komal(a,b)\n",
    "\n",
    "    \n",
    "    "
   ]
  },
  {
   "cell_type": "code",
   "execution_count": 3,
   "id": "2731f180",
   "metadata": {},
   "outputs": [
    {
     "data": {
      "text/plain": [
       "16"
      ]
     },
     "execution_count": 3,
     "metadata": {},
     "output_type": "execute_result"
    }
   ],
   "source": [
    "a = 2\n",
    "b = 2\n",
    "def som():\n",
    "    formula=(a**2 + b**2 + 2*a*b)\n",
    "    return(formula)\n",
    "som()"
   ]
  },
  {
   "cell_type": "code",
   "execution_count": 4,
   "id": "99c47703",
   "metadata": {},
   "outputs": [
    {
     "data": {
      "text/plain": [
       "16"
      ]
     },
     "execution_count": 4,
     "metadata": {},
     "output_type": "execute_result"
    }
   ],
   "source": [
    "som()"
   ]
  },
  {
   "cell_type": "code",
   "execution_count": null,
   "id": "380374f5",
   "metadata": {},
   "outputs": [],
   "source": []
  }
 ],
 "metadata": {
  "kernelspec": {
   "display_name": "Python 3 (ipykernel)",
   "language": "python",
   "name": "python3"
  },
  "language_info": {
   "codemirror_mode": {
    "name": "ipython",
    "version": 3
   },
   "file_extension": ".py",
   "mimetype": "text/x-python",
   "name": "python",
   "nbconvert_exporter": "python",
   "pygments_lexer": "ipython3",
   "version": "3.9.16"
  }
 },
 "nbformat": 4,
 "nbformat_minor": 5
}
